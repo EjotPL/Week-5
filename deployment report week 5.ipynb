{
 "cells": [
  {
   "cell_type": "code",
   "execution_count": 58,
   "id": "cfd78a50",
   "metadata": {},
   "outputs": [],
   "source": [
    "from reportlab.lib import colors\n",
    "from reportlab.lib.pagesizes import letter\n",
    "from reportlab.lib.styles import getSampleStyleSheet\n",
    "from reportlab.lib.units import inch\n",
    "from reportlab.platypus import SimpleDocTemplate, Paragraph, Spacer, Table, TableStyle, Image"
   ]
  },
  {
   "cell_type": "code",
   "execution_count": 59,
   "id": "03f51aa7",
   "metadata": {},
   "outputs": [],
   "source": [
    "# Define data for PDF\n",
    "name = \"Patryk Potocki\"\n",
    "batch_code = \"1991\"\n",
    "submission_date = \"2023-05-04\"\n",
    "submitted_to = \"Data Glacier\""
   ]
  },
  {
   "cell_type": "code",
   "execution_count": 60,
   "id": "af10e3a0",
   "metadata": {},
   "outputs": [],
   "source": [
    "# Define styles for PDF\n",
    "styles = getSampleStyleSheet()\n",
    "style_bold = styles[\"Heading1\"]\n",
    "style_normal = styles[\"Normal\"]"
   ]
  },
  {
   "cell_type": "code",
   "execution_count": 61,
   "id": "b4951a37",
   "metadata": {},
   "outputs": [],
   "source": [
    "# Define content for PDF\n",
    "content = []"
   ]
  },
  {
   "cell_type": "code",
   "execution_count": 62,
   "id": "f4fda29e",
   "metadata": {},
   "outputs": [],
   "source": [
    "# Add title\n",
    "content.append(Paragraph(\"Deployment Report\", style_bold))\n",
    "content.append(Spacer(1, 0.2 * inch))"
   ]
  },
  {
   "cell_type": "code",
   "execution_count": 63,
   "id": "22a927a5",
   "metadata": {},
   "outputs": [],
   "source": [
    "# Add personal information\n",
    "content.append(Paragraph(\"Name: {}\".format(name), style_normal))\n",
    "content.append(Paragraph(\"Batch Code: {}\".format(batch_code), style_normal))\n",
    "content.append(Paragraph(\"Submission Date: {}\".format(submission_date), style_normal))\n",
    "content.append(Paragraph(\"Submitted To: {}\".format(submitted_to), style_normal))\n",
    "content.append(Spacer(1, 0.2 * inch))"
   ]
  },
  {
   "cell_type": "code",
   "execution_count": 64,
   "id": "901a4e72",
   "metadata": {},
   "outputs": [],
   "source": [
    "# Add section for each step\n",
    "content.append(Paragraph(\"Step 1: Create of neccessary files/Import model and csv file\", style_bold))\n",
    "content.append(Spacer(1, 0.2 * inch))\n",
    "content.append(Paragraph(\"Check screenshot nr.1:\", style_normal))\n",
    "content.append(Spacer(1, 0.1 * inch))\n",
    "\n",
    "content.append(Paragraph(\"Step 2: Code main.py file\", style_bold))\n",
    "content.append(Spacer(1, 0.2 * inch))\n",
    "content.append(Paragraph(\"Check screenshot nr.2:\", style_normal))\n",
    "content.append(Spacer(1, 0.1 * inch))\n",
    "\n",
    "content.append(Paragraph(\"Step 3: Code app.ymal file\", style_bold))\n",
    "content.append(Spacer(1, 0.2 * inch))\n",
    "content.append(Paragraph(\"Check screenshot nr.3:\", style_normal))\n",
    "content.append(Spacer(1, 0.1 * inch))\n",
    "\n",
    "content.append(Paragraph(\"Step 4: Code template result.html \", style_bold))\n",
    "content.append(Spacer(1, 0.2 * inch))\n",
    "content.append(Paragraph(\"Check screenshot nr.4:\", style_normal))\n",
    "content.append(Spacer(1, 0.1 * inch))\n",
    "\n",
    "content.append(Paragraph(\"Step 5: Code template index.html \", style_bold))\n",
    "content.append(Spacer(1, 0.2 * inch))\n",
    "content.append(Paragraph(\"Check screenshot nr.5:\", style_normal))\n",
    "content.append(Spacer(1, 0.1 * inch))"
   ]
  },
  {
   "cell_type": "code",
   "execution_count": 65,
   "id": "03a67700",
   "metadata": {},
   "outputs": [],
   "source": [
    "# Define file paths for snapshots\n",
    "snapshot1_path = \"E:\\Kurs\\Data Glacier\\Week 5\\Step1.jpg\"\n",
    "snapshot2_path = \"E:\\Kurs\\Data Glacier\\Week 5\\Step2.jpg\"\n",
    "snapshot3_path = \"E:\\Kurs\\Data Glacier\\Week 5\\Step3.jpg\"\n",
    "snapshot4_path = \"E:\\Kurs\\Data Glacier\\Week 5\\Step4.jpg\"\n",
    "snapshot5_path = \"E:\\Kurs\\Data Glacier\\Week 5\\Step5.jpg\""
   ]
  },
  {
   "cell_type": "code",
   "execution_count": 66,
   "id": "ca948dfe",
   "metadata": {},
   "outputs": [],
   "source": [
    "# Add snapshots to content list\n",
    "content.append(Spacer(1, 3.0 * inch))\n",
    "content.append(Paragraph(\"Snapshot 1:\", style_normal))\n",
    "content.append(Image(snapshot1_path, width=6*inch, height=4*inch))\n",
    "content.append(Spacer(1, 3.0 * inch))\n",
    "content.append(Paragraph(\"Snapshot 2:\", style_normal))\n",
    "content.append(Image(snapshot2_path, width=6*inch, height=4*inch))\n",
    "content.append(Spacer(1, 3.0 * inch))\n",
    "content.append(Paragraph(\"Snapshot 3:\", style_normal))\n",
    "content.append(Image(snapshot3_path, width=6*inch, height=4*inch))\n",
    "content.append(Spacer(1, 3.0 * inch))\n",
    "content.append(Paragraph(\"Snapshot 4:\", style_normal))\n",
    "content.append(Image(snapshot3_path, width=6*inch, height=4*inch))\n",
    "content.append(Spacer(1, 3.0 * inch))\n",
    "content.append(Paragraph(\"Snapshot 5:\", style_normal))\n",
    "content.append(Image(snapshot3_path, width=6*inch, height=4*inch))"
   ]
  },
  {
   "cell_type": "code",
   "execution_count": 67,
   "id": "922af535",
   "metadata": {},
   "outputs": [],
   "source": [
    "# Create PDF document\n",
    "doc = SimpleDocTemplate(\"deployment_report.pdf\", pagesize=letter)"
   ]
  },
  {
   "cell_type": "code",
   "execution_count": 68,
   "id": "4e987e4a",
   "metadata": {},
   "outputs": [],
   "source": [
    "# Add content to PDF\n",
    "doc.build(content)"
   ]
  },
  {
   "cell_type": "code",
   "execution_count": null,
   "id": "98ac8fc2",
   "metadata": {},
   "outputs": [],
   "source": []
  }
 ],
 "metadata": {
  "kernelspec": {
   "display_name": "Python 3 (ipykernel)",
   "language": "python",
   "name": "python3"
  },
  "language_info": {
   "codemirror_mode": {
    "name": "ipython",
    "version": 3
   },
   "file_extension": ".py",
   "mimetype": "text/x-python",
   "name": "python",
   "nbconvert_exporter": "python",
   "pygments_lexer": "ipython3",
   "version": "3.9.13"
  }
 },
 "nbformat": 4,
 "nbformat_minor": 5
}
